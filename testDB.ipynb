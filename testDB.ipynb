{
 "cells": [
  {
   "cell_type": "code",
   "execution_count": 25,
   "metadata": {},
   "outputs": [],
   "source": [
    "import mysql.connector\n",
    "\n",
    "def connectDb():\n",
    "    # Establece los detalles de la conexión\n",
    "    configuracion = {\n",
    "        'user': 'matiasrodr',\n",
    "        'password': 'xxxxxxx',\n",
    "        'host': 'localhost',\n",
    "        'database': 'tdf_automatic',\n",
    "    }\n",
    "    # Crea una conexión a la base de datos\n",
    "    conexion = mysql.connector.connect(**configuracion)\n",
    "    #Crea un cursor para ejecutar consultas SQL\n",
    "    #cursor = conexion.cursor()\n",
    "    return conexion\n",
    "\n",
    "def saldosAll():\n",
    "    conexion = connectDb()\n",
    "    cursor = conexion.cursor()\n",
    "    cursor.execute(\"select atms.Sucursal, atms.ATM, tdf.REM1, tdf.REM2, tdf.REM3, tdf.REM4, tdf.REMANENTE from tdf join atms on tdf.ATM = atms.ATM order by atms.Sucursal\")\n",
    "    saldos = cursor.fetchall()\n",
    "    conexion.close()\n",
    "    return saldos\n",
    "\n",
    "def saldosBySucursal(sucursal):\n",
    "    conexion = connectDb()\n",
    "    cursor = conexion.cursor()\n",
    "    cursor.execute(\"select atms.Sucursal, atms.ATM, tdf.REM1, tdf.REM2, tdf.REM3, tdf.REM4, tdf.REMANENTE from tdf join atms on tdf.ATM = atms.ATM where atms.Sucursal=%s order by atms.ATM\", (int(sucursal),))\n",
    "    saldos = cursor.fetchall()\n",
    "    conexion.close()\n",
    "    return saldos"
   ]
  },
  {
   "cell_type": "code",
   "execution_count": 28,
   "metadata": {},
   "outputs": [
    {
     "name": "stdout",
     "output_type": "stream",
     "text": [
      "[(78, 'S1DBM920', '0', '0', '1126000', '0', '1126000'), (78, 'S1GBM702', '0', '0', '45000', '0', '45000')]\n"
     ]
    }
   ],
   "source": [
    "print(saldosBySucursal(78))"
   ]
  }
 ],
 "metadata": {
  "kernelspec": {
   "display_name": "base",
   "language": "python",
   "name": "python3"
  },
  "language_info": {
   "codemirror_mode": {
    "name": "ipython",
    "version": 3
   },
   "file_extension": ".py",
   "mimetype": "text/x-python",
   "name": "python",
   "nbconvert_exporter": "python",
   "pygments_lexer": "ipython3",
   "version": "3.11.9"
  }
 },
 "nbformat": 4,
 "nbformat_minor": 2
}
