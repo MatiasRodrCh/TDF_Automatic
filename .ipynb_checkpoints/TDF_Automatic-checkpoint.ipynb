{
 "cells": [
  {
   "cell_type": "code",
   "execution_count": 3,
   "id": "630d9a89-86dc-4d75-b604-92b87ad5d048",
   "metadata": {},
   "outputs": [
    {
     "name": "stdout",
     "output_type": "stream",
     "text": [
      "emailbody complete ...\n",
      "file names processed ...\n"
     ]
    },
    {
     "data": {
      "text/plain": [
       "('BYE', [b'LOGOUT Requested'])"
      ]
     },
     "execution_count": 3,
     "metadata": {},
     "output_type": "execute_result"
    }
   ],
   "source": [
    "import imaplib\n",
    "import email\n",
    "import os\n",
    "import zipfile\n",
    "\n",
    "user = 'mrodriguezcheroky'\n",
    "password = 'ozyl qbah amca yvot'\n",
    "\n",
    "server = imaplib.IMAP4_SSL('imap.gmail.com')\n",
    "server.login(user, password)\n",
    "server.select('inbox')\n",
    "detach_dir = '.'\n",
    "\"\"\"\n",
    "if 'attachments' not in os.listdir(detach_dir):\n",
    "    os.mkdir('attachments')\n",
    "\"\"\"    \n",
    "typ, data = server.search(None, 'UNSEEN')\n",
    "for msgId in data[0].split():\n",
    "    typ, messageParts = server.fetch(msgId, '(RFC822)')\n",
    "    emailBody = messageParts[0][1]\n",
    "    raw_email_string = emailBody.decode('utf-8')\n",
    "    mail = email.message_from_string(raw_email_string)#\n",
    "    print('emailbody complete ...')\n",
    "    for part in mail.walk():\n",
    "        if part.get_content_maintype() == 'multipart':\n",
    "            #print(part.as_string())\n",
    "            continue\n",
    "        if part.get('Content-Disposition') is None:\n",
    "            #print(part.as_string())\n",
    "            continue\n",
    "        fileName = part.get_filename()\n",
    "        print('file names processed ...')\n",
    "        if bool(fileName):\n",
    "            filePath = os.path.join(detach_dir, fileName)\n",
    "            #filePath = os.path.join(detach_dir, 'attachments', fileName)\n",
    "            if not os.path.isfile(filePath):\n",
    "                print(fileName)\n",
    "                fp = open(filePath, 'wb')\n",
    "                fp.write(part.get_payload(decode=True))\n",
    "                fp.close()\n",
    "                print('fp closed ...')\n",
    "    with zipfile.ZipFile(fileName) as zip_ref:\n",
    "        zip_ref.extractall(detach_dir)\n",
    "server.close()\n",
    "server.logout()\n"
   ]
  },
  {
   "cell_type": "code",
   "execution_count": null,
   "id": "f3d1011e-44a1-462d-b4f3-e18aba3b686b",
   "metadata": {},
   "outputs": [],
   "source": []
  }
 ],
 "metadata": {
  "kernelspec": {
   "display_name": "Python 3 (ipykernel)",
   "language": "python",
   "name": "python3"
  },
  "language_info": {
   "codemirror_mode": {
    "name": "ipython",
    "version": 3
   },
   "file_extension": ".py",
   "mimetype": "text/x-python",
   "name": "python",
   "nbconvert_exporter": "python",
   "pygments_lexer": "ipython3",
   "version": "3.11.7"
  }
 },
 "nbformat": 4,
 "nbformat_minor": 5
}
